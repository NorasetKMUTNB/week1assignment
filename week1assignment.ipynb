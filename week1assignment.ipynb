{
 "cells": [
  {
   "cell_type": "markdown",
   "metadata": {},
   "source": [
    "##### ex2"
   ]
  },
  {
   "cell_type": "code",
   "execution_count": null,
   "metadata": {},
   "outputs": [],
   "source": [
    "# recursion\n",
    "def re_ex2(k):      \n",
    "    if k > 1: return re_ex2(k-1)+k\n",
    "    elif k == 1: return 2\n",
    "\n",
    "# formula by maths\n",
    "def ex2(k):\n",
    "    return 1+((k*(k+1))/2)"
   ]
  },
  {
   "cell_type": "markdown",
   "metadata": {},
   "source": [
    "##### ex4"
   ]
  },
  {
   "cell_type": "code",
   "execution_count": null,
   "metadata": {},
   "outputs": [],
   "source": [
    "arrtest = [0,1,3,5,6,8,9,1]\n",
    "\n",
    "def ex4(arr):     # arr := list(int)\n",
    "    temp = []\n",
    "    for num in arr:\n",
    "        if num in temp: return True     # work when have duplicate\n",
    "        temp.append(num)\n",
    "    return False                        # work when haven't duplicate\n",
    "\n",
    "ex4(arrtest)"
   ]
  },
  {
   "cell_type": "code",
   "execution_count": 1,
   "metadata": {},
   "outputs": [
    {
     "name": "stdout",
     "output_type": "stream",
     "text": [
      "True\n"
     ]
    }
   ],
   "source": [
    "arrtest = [0,1,3,5,6,8,9,1]\n",
    "\n",
    "def ex4(arr):   # arr := list(int)\n",
    "    tempset = set()\n",
    "    for num in arr:     # O(n)\n",
    "        if num in tempset: return True     # work when have duplicate\n",
    "        tempset.add(num)\n",
    "    return False                        # work when haven't duplicate\n",
    "\n",
    "print(ex4(arrtest))"
   ]
  },
  {
   "cell_type": "markdown",
   "metadata": {},
   "source": [
    "##### ex5"
   ]
  },
  {
   "cell_type": "code",
   "execution_count": 36,
   "metadata": {},
   "outputs": [
    {
     "name": "stdout",
     "output_type": "stream",
     "text": [
      "(0,1,-1) (0,-2,2) (2,1,-3) "
     ]
    }
   ],
   "source": [
    "a = [0, -1, 2, -3, 1, -2]\n",
    "\n",
    "def ex5(arr):       # sum to 0 : big o(n^2) , \n",
    "                    # in array can't have duplicate integer\n",
    "    l = len(arr)  \n",
    "    for i in range(l-1):            # big o(n)\n",
    "        tempset = set()\n",
    "        for j in range(i+1, l):     # big o(n)\n",
    "            x = -(arr[i] + arr[j])\n",
    "            if x in tempset: \n",
    "                print(\"({},{},{})\".format(arr[i], arr[j], x), end=' ')\n",
    "            else: tempset.add(arr[j])  \n",
    "\n",
    "ex5(a)"
   ]
  },
  {
   "cell_type": "code",
   "execution_count": 37,
   "metadata": {},
   "outputs": [
    {
     "name": "stdout",
     "output_type": "stream",
     "text": [
      "(0,-1,1), (0,2,-2), (2,-3,1), "
     ]
    }
   ],
   "source": [
    "# change if ### not done!!!!\n",
    "a = [0, -1, 2, -3, 1, -2, 1]\n",
    "\n",
    "def ex5(arr):       # sum to 0 : big o(n^2) \n",
    "                    # in array can't have duplicate integer\n",
    "    l = len(arr)  \n",
    "    tempset = set()\n",
    "    for i in range(l-1):            # big o(n)\n",
    "        for j in range(i+1, l):     # big o(n)\n",
    "            x = -(arr[i] + arr[j])\n",
    "\n",
    "            if  (x in a) and ((x not in tempset) or \n",
    "                (arr[i] not in tempset) or (arr[j] not in tempset)):\n",
    "\n",
    "                print(\"({},{},{})\".format(arr[i], arr[j], x), end=', ') \n",
    "                tempset.add(arr[i]) \n",
    "                tempset.add(arr[j])\n",
    "                tempset.add(x)\n",
    "                \n",
    "ex5(a)"
   ]
  },
  {
   "cell_type": "code",
   "execution_count": 32,
   "metadata": {},
   "outputs": [
    {
     "data": {
      "text/plain": [
       "{(-3, -2, 5), (-3, 1, 2), (-2, 0, 2), (-2, 1, 1), (-1, 0, 1)}"
      ]
     },
     "execution_count": 32,
     "metadata": {},
     "output_type": "execute_result"
    }
   ],
   "source": [
    "# final\n",
    "arr = [0, -1, 2, -3, 1, -2, 1, 2, 5]\n",
    "\n",
    "def ex5(arr):       # sum to 0 : big o(n^2) \n",
    "    check = 0       # check for \"have 3 numbers sum equal 0 ?\"\n",
    "    l = len(arr)  \n",
    "    numset = set()\n",
    "    checkset = set()\n",
    "\n",
    "    for i in range(l-1):            # big o(n)\n",
    "        for j in range(i+1, l):     # big o(n)\n",
    "            x = -(arr[i] + arr[j])\n",
    "\n",
    "            if (x in numset) and (x != arr[i]) and (x != arr[j]):\n",
    "                temp = [arr[i], arr[j], x]\n",
    "                temp.sort()         # sort\n",
    "                temp=tuple(temp)    # list => tuple\n",
    "                \n",
    "                if temp in checkset: break # it's duplicate\n",
    "                checkset.add(temp)\n",
    "                check+=1\n",
    "\n",
    "            else: numset.add(arr[j])\n",
    "\n",
    "    if check == 0: return print('no found')\n",
    "    return checkset\n",
    "                \n",
    "ex5(arr)"
   ]
  },
  {
   "cell_type": "code",
   "execution_count": 5,
   "metadata": {},
   "outputs": [
    {
     "name": "stdout",
     "output_type": "stream",
     "text": [
      "(-1, 0, 1),(-2, 0, 2),(-3, 1, 2),(-2, 1, 1),(-3, -2, 5)\n"
     ]
    }
   ],
   "source": [
    "arr = [0, -1, 2, -3, 1, -2, 1, 2, 5]\n",
    "\n",
    "def ex5(arr):       # sum to 0 : big o(n^2) \n",
    "    check = 0       # check for \"have 3 numbers sum equal 0 ?\"\n",
    "    l = len(arr)  \n",
    "    numset = set()\n",
    "    checkset = set()\n",
    "    ans = []\n",
    "\n",
    "    for i in range(l-1):            # big o(n)\n",
    "        for j in range(i+1, l):     # big o(n)\n",
    "            x = -(arr[i] + arr[j])\n",
    "\n",
    "            if (x in numset) and (x != arr[i]) and (x != arr[j]):\n",
    "                temp = [arr[i], arr[j], x]\n",
    "                temp.sort()         # sort\n",
    "                temp=tuple(temp)    # list => tuple\n",
    "                \n",
    "                if temp in checkset: break # it's duplicate\n",
    "\n",
    "                ans.append(temp)\n",
    "                checkset.add(temp)\n",
    "                check+=1\n",
    "\n",
    "            else: numset.add(arr[j])\n",
    "\n",
    "    if check == 0: return print('no found')\n",
    "    return ans\n",
    "\n",
    "# output                \n",
    "ans = ex5(arr)\n",
    "l = len(ans) \n",
    "for i in range(l):\n",
    "    if i == l-1: \n",
    "        print(ans[i])\n",
    "        break\n",
    "    print(ans[i], end=',') \n"
   ]
  },
  {
   "cell_type": "code",
   "execution_count": 21,
   "metadata": {},
   "outputs": [
    {
     "name": "stdout",
     "output_type": "stream",
     "text": [
      "(1, 2, 3)\n",
      "{(1, 2, 3)}\n"
     ]
    }
   ],
   "source": [
    "x = set()\n",
    "y = [1,3,2]\n",
    "y.sort()\n",
    "y=tuple(y)\n",
    "print(y)\n",
    "x.add(y)\n",
    "print(x)"
   ]
  },
  {
   "cell_type": "markdown",
   "metadata": {},
   "source": [
    "##### ex6"
   ]
  },
  {
   "cell_type": "code",
   "execution_count": 1,
   "metadata": {},
   "outputs": [
    {
     "name": "stdout",
     "output_type": "stream",
     "text": [
      "4\n"
     ]
    }
   ],
   "source": [
    "import numpy as np      # use numpy library for matrix\n",
    "\n",
    "def checknum10(arr,sq):     # array follow column/row sq elements\n",
    "    count = 0\n",
    "\n",
    "    for i in range(sq-1):\n",
    "        temp = arr[i]\n",
    "        for j in range(i+1, sq):\n",
    "            temp += arr[j]\n",
    "            if temp > 10: break\n",
    "            elif temp == 10: \n",
    "                count += 1 \n",
    "                break\n",
    "\n",
    "    return count\n",
    "\n",
    "def ex6():\n",
    "    step = 0      \n",
    "    r = int(input('Enter round'))   # round \n",
    "    while step != r:\n",
    "        sq = input('Enter your square in round {}'.format(step+1))  \n",
    "        i, count = 0, 0   \n",
    "        try:    # str(sq) can convert to int(sq)\n",
    "            sq = int(sq)\n",
    "            tempmatrix = []\n",
    "\n",
    "            while i != sq: # row in matrix\n",
    "                x = input('Enter {} integers in row {}'.format(sq, i+1)).split()     # x := array\n",
    "                try:    # str(arr) can convert to int(arr)\n",
    "                    temp = []\n",
    "                    for j  in range(len(x)): \n",
    "                        temp.append(int(x[j]))\n",
    "                    if len(temp) != sq: \n",
    "                        print(\"it's not {} numbers!! try again!!\".format(sq)) \n",
    "                        break\n",
    "                    tempmatrix.append(temp) \n",
    "                    i+=1\n",
    "                        \n",
    "                except ValueError:  # str(arr) can't convert to int(arr)\n",
    "                    x = input('Please!! enter {} integers in row {}'.format(sq, i+1)).split()\n",
    "\n",
    "            # creating matrix\n",
    "            matrix = np.array(tempmatrix)\n",
    "            #print('matrix : \\n', matrix)\n",
    "\n",
    "            # find number sum equal 10\n",
    "            for k in range(sq):\n",
    "                count+=checknum10(matrix[k,:],sq)\n",
    "                count+=checknum10(matrix[:,k],sq)\n",
    "            \n",
    "            print(count)\n",
    "\n",
    "        except ValueError:  # str(sq) can't convert to int(sq)\n",
    "            sq = input('Please enter an integer again')\n",
    "        \n",
    "        step+=1\n",
    "\n",
    "ex6()"
   ]
  },
  {
   "cell_type": "markdown",
   "metadata": {},
   "source": [
    "##### test ex6"
   ]
  },
  {
   "cell_type": "code",
   "execution_count": 25,
   "metadata": {},
   "outputs": [
    {
     "name": "stdout",
     "output_type": "stream",
     "text": [
      "matrix : \n",
      " [[3 7]\n",
      " [7 3]]\n",
      "4\n"
     ]
    }
   ],
   "source": [
    "import numpy as np      # use numpy library for matrix\n",
    "\n",
    "sq = input('')  \n",
    "i, count = 0, 0   \n",
    "while sq != 'x':    # enter 'x' for quit\n",
    "    try:    # str(sq) can convert to int(sq)\n",
    "        sq = int(sq)\n",
    "        tempmatrix = []\n",
    "\n",
    "        while i != sq: # row in matrix\n",
    "            x = input().split()     # x := array\n",
    "            try:    # str(arr) can convert to int(arr)\n",
    "                temp = []\n",
    "                for j  in range(len(x)): \n",
    "                    temp.append(int(x[j]))\n",
    "                tempmatrix.append(temp) \n",
    "                i+=1\n",
    "                    \n",
    "            except ValueError:  # str(arr) can't convert to int(arr)\n",
    "                x = input('Please enter integers in row {}'.format(i+1)).split()\n",
    "\n",
    "        # creating matrix\n",
    "        matrix = np.array(tempmatrix)\n",
    "        print('matrix : \\n', matrix)\n",
    "        \"\"\" for k in range(sq):\n",
    "            temp = (matrix[k,:])\n",
    "            print(temp[k]) \"\"\"\n",
    "\n",
    "        # find number sum equal 10\n",
    "        for k in range(sq):\n",
    "            count+=checknum10(matrix[k,:],sq)\n",
    "            count+=checknum10(matrix[:,k],sq)\n",
    "\n",
    "        # enter again\n",
    "        sq = input('')\n",
    "\n",
    "    except ValueError:  # str(sq) can't convert to int(sq)\n",
    "        sq = input('Please enter an integer')\n",
    "        \n",
    "print(count)"
   ]
  },
  {
   "cell_type": "code",
   "execution_count": 1,
   "metadata": {},
   "outputs": [
    {
     "name": "stdout",
     "output_type": "stream",
     "text": [
      "[1, 2, 3, 4]\n"
     ]
    }
   ],
   "source": [
    "x = input().split()\n",
    "tempmatrix = []\n",
    "\n",
    "temp = []\n",
    "for i in range(len(x)):\n",
    "    temp.append(int(x[i])) \n",
    "\n",
    "print(temp)\n",
    "\n"
   ]
  },
  {
   "cell_type": "code",
   "execution_count": 24,
   "metadata": {},
   "outputs": [],
   "source": [
    "en = input('')\n",
    "while en != 'x':\n",
    "    try:\n",
    "        string_int = int(en)\n",
    "        en = input('')\n",
    "    except ValueError:\n",
    "        # Handle the exception\n",
    "        en = input('Please enter an integer')"
   ]
  }
 ],
 "metadata": {
  "interpreter": {
   "hash": "d1fbdb9631944acadbd7e25ba74a24bf84510f895c8202b1aa17f36836065275"
  },
  "kernelspec": {
   "display_name": "Python 3.10.0 64-bit",
   "language": "python",
   "name": "python3"
  },
  "language_info": {
   "codemirror_mode": {
    "name": "ipython",
    "version": 3
   },
   "file_extension": ".py",
   "mimetype": "text/x-python",
   "name": "python",
   "nbconvert_exporter": "python",
   "pygments_lexer": "ipython3",
   "version": "3.9.9"
  },
  "orig_nbformat": 4
 },
 "nbformat": 4,
 "nbformat_minor": 2
}
